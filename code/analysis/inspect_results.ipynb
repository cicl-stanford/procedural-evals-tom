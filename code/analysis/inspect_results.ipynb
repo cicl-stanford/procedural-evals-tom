{
 "cells": [
  {
   "cell_type": "code",
   "execution_count": 2,
   "metadata": {},
   "outputs": [],
   "source": [
    "import numpy as np\n",
    "import pandas as pd\n",
    "\n",
    "\n",
    "\n",
    "RES_DIR = './model_performance' # where to store the processed model res (i.e. the df that corresponds to a plot)\n",
    "\n",
    "# conditions\n",
    "CONDITION = ['control'] # \"belief\" or \"control\" add control later\n",
    "CONDITION_NAME= [\"forward_action\"]\n",
    "INIT_BELIEF = [0, 1] # 0 or 1 (0 = hide initial belief, 1 = show initial belief)\n",
    "METHOD = [\"0shot\"] # 0shot, 1shot, 0shot-cot, 1shot-cot add other methods later\n",
    "\n",
    "# dependencies / contingencies \n",
    "CONTINGENCY =  ['true_and_false', 'marginal']\n"
   ]
  },
  {
   "cell_type": "code",
   "execution_count": 3,
   "metadata": {},
   "outputs": [
    {
     "name": "stdout",
     "output_type": "stream",
     "text": [
      "0shot\n",
      "forward_action_0_control_0shot_true_and_false.csv\n",
      "  Average Accuracy.8 Average Accuracy.9\n",
      "0            gpt-4_0            gpt-4_0\n",
      "1               True              False\n",
      "2               0.98               0.98\n",
      "0shot\n",
      "forward_action_1_control_0shot_true_and_false.csv\n",
      "  Average Accuracy.8 Average Accuracy.9\n",
      "0            gpt-4_0            gpt-4_0\n",
      "1               True              False\n",
      "2               0.95               0.94\n",
      "0shot\n",
      "forward_action_0_control_0shot_marginal.csv\n",
      "  Average Accuracy.8 Average Accuracy.9\n",
      "0            gpt-4_0            gpt-4_0\n",
      "1               True              False\n",
      "2               0.98               0.99\n",
      "0shot\n",
      "forward_action_1_control_0shot_marginal.csv\n",
      "  Average Accuracy.8 Average Accuracy.9\n",
      "0            gpt-4_0            gpt-4_0\n",
      "1               True              False\n",
      "2               0.95               0.98\n"
     ]
    }
   ],
   "source": [
    "for contingency in CONTINGENCY:\n",
    "    for init_belief in INIT_BELIEF:\n",
    "        for condition_name in CONDITION_NAME:\n",
    "            for method in METHOD:\n",
    "                print(method)\n",
    "                print(f'{condition_name}_{init_belief}_control_{method}_{contingency}.csv')\n",
    "                df = pd.read_csv(f'{RES_DIR}/{condition_name}_{init_belief}_control_{method}_{contingency}.csv')\n",
    "                required_columns = ['Average Accuracy.8', 'Average Accuracy.9']\n",
    "                df_required = df[required_columns]\n",
    "                print(df_required.head())"
   ]
  }
 ],
 "metadata": {
  "kernelspec": {
   "display_name": "object-discovery",
   "language": "python",
   "name": "python3"
  },
  "language_info": {
   "codemirror_mode": {
    "name": "ipython",
    "version": 3
   },
   "file_extension": ".py",
   "mimetype": "text/x-python",
   "name": "python",
   "nbconvert_exporter": "python",
   "pygments_lexer": "ipython3",
   "version": "3.9.16"
  },
  "orig_nbformat": 4
 },
 "nbformat": 4,
 "nbformat_minor": 2
}
